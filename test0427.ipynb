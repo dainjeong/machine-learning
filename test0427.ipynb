{
  "nbformat": 4,
  "nbformat_minor": 0,
  "metadata": {
    "colab": {
      "name": "test0427.ipynb",
      "provenance": [],
      "collapsed_sections": [],
      "authorship_tag": "ABX9TyMsxe/41gj+Yp4ThFgQzoOH",
      "include_colab_link": true
    },
    "kernelspec": {
      "name": "python3",
      "display_name": "Python 3"
    }
  },
  "cells": [
    {
      "cell_type": "markdown",
      "metadata": {
        "id": "view-in-github",
        "colab_type": "text"
      },
      "source": [
        "<a href=\"https://colab.research.google.com/github/dainjeong/machine-learning/blob/master/test0427.ipynb\" target=\"_parent\"><img src=\"https://colab.research.google.com/assets/colab-badge.svg\" alt=\"Open In Colab\"/></a>"
      ]
    },
    {
      "cell_type": "code",
      "metadata": {
        "id": "J860x82sGs7V",
        "colab_type": "code",
        "colab": {
          "base_uri": "https://localhost:8080/",
          "height": 51
        },
        "outputId": "17cbe173-8e89-4da6-b259-a6b3e46ac5d2"
      },
      "source": [
        "x = 3\n",
        "print(x *5)\n",
        "print(x *10)"
      ],
      "execution_count": 13,
      "outputs": [
        {
          "output_type": "stream",
          "text": [
            "15\n",
            "30\n"
          ],
          "name": "stdout"
        }
      ]
    },
    {
      "cell_type": "code",
      "metadata": {
        "id": "JT4tukH5H0ME",
        "colab_type": "code",
        "colab": {}
      },
      "source": [
        "y = 7"
      ],
      "execution_count": 0,
      "outputs": []
    },
    {
      "cell_type": "code",
      "metadata": {
        "id": "2TdQTLJ1IP_T",
        "colab_type": "code",
        "colab": {}
      },
      "source": [
        "\n",
        "z = 5\n",
        "z"
      ],
      "execution_count": 0,
      "outputs": []
    },
    {
      "cell_type": "markdown",
      "metadata": {
        "id": "qAaojLCFIIqX",
        "colab_type": "text"
      },
      "source": [
        "# 오늘의 수업\n"
      ]
    },
    {
      "cell_type": "markdown",
      "metadata": {
        "id": "F-A2lDOJI78U",
        "colab_type": "text"
      },
      "source": [
        "# 내일의 수업"
      ]
    }
  ]
}